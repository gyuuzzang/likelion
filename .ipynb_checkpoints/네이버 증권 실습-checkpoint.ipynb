{
 "cells": [
  {
   "cell_type": "code",
   "execution_count": 4,
   "metadata": {},
   "outputs": [
    {
     "data": {
      "text/plain": [
       "<title>국내증시 : 네이버 금융</title>"
      ]
     },
     "execution_count": 4,
     "metadata": {},
     "output_type": "execute_result"
    }
   ],
   "source": [
    "from urllib.request import urlopen\n",
    "from bs4 import BeautifulSoup\n",
    "\n",
    "url = \"https://finance.naver.com/sise/\"\n",
    "\n",
    "page = urlopen(url)\n",
    "page\n",
    "soup = BeautifulSoup(page, \"html.parser\")\n",
    "soup.title"
   ]
  },
  {
   "cell_type": "code",
   "execution_count": 17,
   "metadata": {},
   "outputs": [
    {
     "name": "stdout",
     "output_type": "stream",
     "text": [
      "코스피:  3,276.26\n",
      "코스닥:  999.15\n",
      "kpt: 436.53\n"
     ]
    }
   ],
   "source": [
    "kospi = soup.find(\"span\", id= \"KOSPI_now\").text\n",
    "print(\"코스피: \", kospi)\n",
    "\n",
    "kosdaq = soup.find(\"span\", id= \"KOSDAQ_now\").text\n",
    "print(\"코스닥: \", kosdaq)\n",
    "\n",
    "kpi = soup.find(\"span\", id= \"KPI200_now\").text\n",
    "print(\"kpi:\" ,kpi)"
   ]
  },
  {
   "cell_type": "markdown",
   "metadata": {},
   "source": [
    "### 인기종목"
   ]
  },
  {
   "cell_type": "code",
   "execution_count": 86,
   "metadata": {},
   "outputs": [
    {
     "data": {
      "text/plain": [
       "[<li><em>1.</em><a href=\"/item/main.nhn?code=035420\" onclick=\"clickcr(this,'boa.list','035420','1',event)\">NAVER</a><span class=\"up\">394,500</span><em class=\"bu_p bu_pup\"><span class=\"blind\">상승</span></em></li>,\n",
       " <li><em>2.</em><a href=\"/item/main.nhn?code=005930\" onclick=\"clickcr(this,'boa.list','005930','2',event)\">삼성전자</a><span class=\"up\">81,500</span><em class=\"bu_p bu_pup\"><span class=\"blind\">상승</span></em></li>,\n",
       " <li><em>3.</em><a href=\"/item/main.nhn?code=004410\" onclick=\"clickcr(this,'boa.list','004410','3',event)\">서울식품</a><span class=\"up\">458</span><em class=\"bu_p bu_pup\"><span class=\"blind\">상승</span></em></li>,\n",
       " <li><em>4.</em><a href=\"/item/main.nhn?code=035720\" onclick=\"clickcr(this,'boa.list','035720','4',event)\">카카오</a><span class=\"dn\">143,000</span><em class=\"bu_p bu_pdn\"><span class=\"blind\">하락</span></em></li>,\n",
       " <li><em>5.</em><a href=\"/item/main.nhn?code=034020\" onclick=\"clickcr(this,'boa.list','034020','5',event)\">두산중공업</a><span class=\"up\">24,600</span><em class=\"bu_p bu_pup\"><span class=\"blind\">상승</span></em></li>,\n",
       " <li><em>6.</em><a href=\"/item/main.nhn?code=102280\" onclick=\"clickcr(this,'boa.list','102280','6',event)\">쌍방울</a><span class=\"dn\">1,275</span><em class=\"bu_p bu_pdn\"><span class=\"blind\">하락</span></em></li>,\n",
       " <li><em>7.</em><a href=\"/item/main.nhn?code=011200\" onclick=\"clickcr(this,'boa.list','011200','7',event)\">HMM</a><span class=\"up\">45,600</span><em class=\"bu_p bu_pup\"><span class=\"blind\">상승</span></em></li>,\n",
       " <li><em>8.</em><a href=\"/item/main.nhn?code=006340\" onclick=\"clickcr(this,'boa.list','006340','8',event)\">대원전선</a><span class=\"up\">3,475</span><em class=\"bu_p bu_pup\"><span class=\"blind\">상승</span></em></li>,\n",
       " <li><em>9.</em><a href=\"/item/main.nhn?code=001440\" onclick=\"clickcr(this,'boa.list','001440','9',event)\">대한전선</a><span class=\"up\">3,290</span><em class=\"bu_p bu_pup\"><span class=\"blind\">상승</span></em></li>,\n",
       " <li><em>10.</em><a href=\"/item/main.nhn?code=130660\" onclick=\"clickcr(this,'boa.list','130660','10',event)\">한전산업</a><span class=\"up\">10,900</span><em class=\"bu_p bu_pup\"><span class=\"blind\">상승</span></em></li>]"
      ]
     },
     "execution_count": 86,
     "metadata": {},
     "output_type": "execute_result"
    }
   ],
   "source": [
    "hot = soup.find(\"ul\", id= \"popularItemList\").find_all(\"li\")\n",
    "hot"
   ]
  },
  {
   "cell_type": "code",
   "execution_count": 35,
   "metadata": {},
   "outputs": [
    {
     "name": "stdout",
     "output_type": "stream",
     "text": [
      "NAVER\n",
      "394,500\n"
     ]
    }
   ],
   "source": [
    "print(hot[0].find(\"a\").text)\n",
    "print(hot[0].find(\"span\").text)"
   ]
  },
  {
   "cell_type": "code",
   "execution_count": 36,
   "metadata": {},
   "outputs": [
    {
     "name": "stdout",
     "output_type": "stream",
     "text": [
      "회사명:  NAVER\n",
      "등락: 394,500\n",
      "회사명:  삼성전자\n",
      "등락: 81,500\n",
      "회사명:  서울식품\n",
      "등락: 458\n",
      "회사명:  카카오\n",
      "등락: 143,000\n",
      "회사명:  두산중공업\n",
      "등락: 24,600\n",
      "회사명:  쌍방울\n",
      "등락: 1,275\n",
      "회사명:  HMM\n",
      "등락: 45,600\n",
      "회사명:  대원전선\n",
      "등락: 3,475\n",
      "회사명:  대한전선\n",
      "등락: 3,290\n",
      "회사명:  한전산업\n",
      "등락: 10,900\n"
     ]
    }
   ],
   "source": [
    "for one in hot:\n",
    "    com= one.find(\"a\").text\n",
    "    price= one.find(\"span\").text\n",
    "    updown=one.find()\n",
    "    print(\"회사명: \",com,\"등락:\", price)\n",
    "    print(\"등락:\", price)"
   ]
  },
  {
   "cell_type": "markdown",
   "metadata": {},
   "source": [
    "### 태그의 속성출력하기\n",
    "* one = stock_all[0].find(\"span\")\n",
    "* one.get(\"class\")"
   ]
  },
  {
   "cell_type": "code",
   "execution_count": 50,
   "metadata": {},
   "outputs": [
    {
     "name": "stdout",
     "output_type": "stream",
     "text": [
      "['up'] ['up']\n",
      "['up'] ['up']\n",
      "['up'] ['up']\n",
      "['dn'] ['dn']\n",
      "['up'] ['up']\n",
      "['dn'] ['dn']\n",
      "['up'] ['up']\n",
      "['up'] ['up']\n",
      "['up'] ['up']\n",
      "['up'] ['up']\n"
     ]
    }
   ],
   "source": [
    "for one in hot:\n",
    "    updown=one.find(\"span\")\n",
    "\n",
    "    up=one.find(\"span\").get(\"class\")\n",
    "    print(updown.get(\"class\"), up)"
   ]
  },
  {
   "cell_type": "code",
   "execution_count": 51,
   "metadata": {},
   "outputs": [
    {
     "name": "stdout",
     "output_type": "stream",
     "text": [
      "회사명:  NAVER 등락: ['up'] 수치:  394,500\n",
      "회사명:  삼성전자 등락: ['up'] 수치:  81,500\n",
      "회사명:  서울식품 등락: ['up'] 수치:  458\n",
      "회사명:  카카오 등락: ['dn'] 수치:  143,000\n",
      "회사명:  두산중공업 등락: ['up'] 수치:  24,600\n",
      "회사명:  쌍방울 등락: ['dn'] 수치:  1,275\n",
      "회사명:  HMM 등락: ['up'] 수치:  45,600\n",
      "회사명:  대원전선 등락: ['up'] 수치:  3,475\n",
      "회사명:  대한전선 등락: ['up'] 수치:  3,290\n",
      "회사명:  한전산업 등락: ['up'] 수치:  10,900\n"
     ]
    }
   ],
   "source": [
    "for one in hot:\n",
    "    com= one.find(\"a\").text\n",
    "    price= one.find(\"span\").text\n",
    "    up=one.find(\"span\").get(\"class\")\n",
    "    \n",
    "    print(\"회사명: \",com,\"등락:\", up,\"수치: \",price)"
   ]
  },
  {
   "cell_type": "code",
   "execution_count": 78,
   "metadata": {},
   "outputs": [
    {
     "data": {
      "text/plain": [
       "<li><em>1.</em><a href=\"/item/main.nhn?code=035420\" onclick=\"clickcr(this,'boa.list','035420','1',event)\">NAVER</a><span class=\"up\">394,500</span><em class=\"bu_p bu_pup\"><span class=\"blind\">상승</span></em></li>"
      ]
     },
     "execution_count": 78,
     "metadata": {},
     "output_type": "execute_result"
    }
   ],
   "source": [
    "hot[0]"
   ]
  },
  {
   "cell_type": "code",
   "execution_count": 69,
   "metadata": {},
   "outputs": [
    {
     "name": "stdout",
     "output_type": "stream",
     "text": [
      "'035420'\n"
     ]
    }
   ],
   "source": [
    "print(stock_all[0].find(\"a\").get(\"onclick\").split(',')[2])"
   ]
  },
  {
   "cell_type": "code",
   "execution_count": 83,
   "metadata": {},
   "outputs": [
    {
     "name": "stdout",
     "output_type": "stream",
     "text": [
      "회사명:  NAVER 등락: 상승 수치:  394,500 코드:  '035420'\n",
      "회사명:  삼성전자 등락: 상승 수치:  81,500 코드:  '005930'\n",
      "회사명:  서울식품 등락: 상승 수치:  458 코드:  '004410'\n",
      "회사명:  카카오 등락: 하락 수치:  143,000 코드:  '035720'\n",
      "회사명:  두산중공업 등락: 상승 수치:  24,600 코드:  '034020'\n",
      "회사명:  쌍방울 등락: 하락 수치:  1,275 코드:  '102280'\n",
      "회사명:  HMM 등락: 상승 수치:  45,600 코드:  '011200'\n",
      "회사명:  대원전선 등락: 상승 수치:  3,475 코드:  '006340'\n",
      "회사명:  대한전선 등락: 상승 수치:  3,290 코드:  '001440'\n",
      "회사명:  한전산업 등락: 상승 수치:  10,900 코드:  '130660'\n"
     ]
    }
   ],
   "source": [
    "for one in hot:\n",
    "    com= one.find(\"a\").text\n",
    "    price= one.find_all(\"span\")[0].text\n",
    "    ud= one.find_all(\"span\")[1].text\n",
    "    code= one.find(\"a\").get(\"onclick\").split(',')[2]\n",
    "    \n",
    "    print(\"회사명: \",com,\"등락:\", ud,\"수치: \",price, \"코드: \",code)"
   ]
  },
  {
   "cell_type": "code",
   "execution_count": 57,
   "metadata": {},
   "outputs": [
    {
     "name": "stdout",
     "output_type": "stream",
     "text": [
      "['NAVER', '삼성전자', '서울식품', '카카오', '두산중공업', '쌍방울', 'HMM', '대원전선', '대한전선', '한전산업']\n",
      "['394,500', '81,500', '458', '143,000', '24,600', '1,275', '45,600', '3,475', '3,290', '10,900']\n",
      "['상승', '상승', '상승', '하락', '상승', '하락', '상승', '상승', '상승', '상승']\n",
      "[\"'035420'\", \"'005930'\", \"'004410'\", \"'035720'\", \"'034020'\", \"'102280'\", \"'011200'\", \"'006340'\", \"'001440'\", \"'130660'\"]\n"
     ]
    }
   ],
   "source": [
    "# 다른 분 답\n",
    "search_stock=soup.find('ul',id='popularItemList')\n",
    "stock_all=search_stock.find_all('li')\n",
    "com_all=[]\n",
    "price_all=[]\n",
    "rank_all=[]\n",
    "code_all=[]\n",
    "for one in stock_all:\n",
    "    com_one=one.find('a').text\n",
    "    price_one=one.find('span').text\n",
    "    rank_one=one.find('span',class_='blind').text\n",
    "    code_one=one.find('a').get(\"onclick\").split(',')[2]\n",
    "    com_all.append(com_one)\n",
    "    price_all.append(price_one)\n",
    "    rank_all.append(rank_one)\n",
    "    code_all.append(code_one)\n",
    "print(com_all)\n",
    "print(price_all)\n",
    "print(rank_all)\n",
    "print(code_all)"
   ]
  },
  {
   "cell_type": "code",
   "execution_count": 96,
   "metadata": {
    "scrolled": true
   },
   "outputs": [
    {
     "ename": "SyntaxError",
     "evalue": "invalid syntax (<ipython-input-96-b675e921cffc>, line 1)",
     "output_type": "error",
     "traceback": [
      "\u001b[1;36m  File \u001b[1;32m\"<ipython-input-96-b675e921cffc>\"\u001b[1;36m, line \u001b[1;32m1\u001b[0m\n\u001b[1;33m    *원래 나의 답변\u001b[0m\n\u001b[1;37m        ^\u001b[0m\n\u001b[1;31mSyntaxError\u001b[0m\u001b[1;31m:\u001b[0m invalid syntax\n"
     ]
    }
   ],
   "source": [
    "*원래 나의 답변\n",
    "for one in hot:\n",
    "    com= hot.find_all(\"a\").text\n",
    "    price= hot.find_all(\"span\").text\n",
    "    print(\"회사명: \",com)\n",
    "    print(\"등락:\", price)"
   ]
  },
  {
   "cell_type": "markdown",
   "metadata": {},
   "source": [
    "* 주요 해외 지수 가져오기"
   ]
  },
  {
   "cell_type": "code",
   "execution_count": 106,
   "metadata": {},
   "outputs": [
    {
     "data": {
      "text/plain": [
       "[<li><a href=\"/world/sise.nhn?symbol=DJI@DJI&amp;fdtc=0\" onclick=\"clickcr(this,'wst.dow','','',event)\">다우산업</a><span class=\"dn\">34,299.33</span><em class=\"bu_p bu_pdn\"><span class=\"blind\">하락</span></em></li>,\n",
       " <li><a href=\"/world/sise.nhn?symbol=NAS@IXIC&amp;fdtc=0\" onclick=\"clickcr(this,'wst.nasdaq','','',event)\"> 나스닥</a><span class=\"dn\">14,072.86</span><em class=\"bu_p bu_pdn\"><span class=\"blind\">하락</span></em></li>,\n",
       " <li><a href=\"/world/sise.nhn?symbol=HSI@HSCE&amp;fdtc=0\" onclick=\"clickcr(this,'wst.hsce','','',event)\"> 홍콩H</a><span class=\"dn\">10,605.78</span><em class=\"bu_p bu_pdn\"><span class=\"blind\">하락</span></em></li>,\n",
       " <li><a href=\"/world/sise.nhn?symbol=SHS@000001&amp;fdtc=0\" onclick=\"clickcr(this,'wst.shs','','',event)\"> 상해종합</a><span class=\"dn\">3,529.11</span><em class=\"bu_p bu_pdn\"><span class=\"blind\">하락</span></em></li>,\n",
       " <li><a href=\"/world/sise.nhn?symbol=NII@NI225&amp;fdtc=0\" onclick=\"clickcr(this,'wst.ni225','','',event)\"> 니케이225</a><span class=\"dn\">29,329.05</span><em class=\"bu_p bu_pdn\"><span class=\"blind\">하락</span></em></li>]"
      ]
     },
     "execution_count": 106,
     "metadata": {},
     "output_type": "execute_result"
    }
   ],
   "source": [
    "major = soup.find(\"ul\", class_=\"lst_major\").find_all(\"li\")\n",
    "major"
   ]
  },
  {
   "cell_type": "code",
   "execution_count": null,
   "metadata": {},
   "outputs": [],
   "source": [
    "* 원래 내 답\n",
    "major = soup.find(\"ul\").get(\"lst_major\").find_all(\"li\")"
   ]
  },
  {
   "cell_type": "code",
   "execution_count": 114,
   "metadata": {
    "scrolled": true
   },
   "outputs": [
    {
     "name": "stdout",
     "output_type": "stream",
     "text": [
      "['다우산업', ' 나스닥', ' 홍콩H', ' 상해종합', ' 니케이225'] ['34,299.33', '14,072.86', '10,605.78', '3,529.11', '29,329.05'] ['하락', '하락', '하락', '하락', '하락']\n"
     ]
    }
   ],
   "source": [
    "name= []\n",
    "index=[]\n",
    "blind=[]\n",
    "\n",
    "for i in major:\n",
    "    name1 = i.find(\"a\").text\n",
    "    index2 = i.find(\"span\").text\n",
    "    blind3 = i.find(\"span\", class_=\"blind\").text\n",
    "    name.append(name1)\n",
    "    index.append(index2)\n",
    "    blind.append(blind3)\n",
    "print(name, index, blind)"
   ]
  },
  {
   "cell_type": "code",
   "execution_count": 115,
   "metadata": {},
   "outputs": [
    {
     "data": {
      "text/html": [
       "<div>\n",
       "<style scoped>\n",
       "    .dataframe tbody tr th:only-of-type {\n",
       "        vertical-align: middle;\n",
       "    }\n",
       "\n",
       "    .dataframe tbody tr th {\n",
       "        vertical-align: top;\n",
       "    }\n",
       "\n",
       "    .dataframe thead th {\n",
       "        text-align: right;\n",
       "    }\n",
       "</style>\n",
       "<table border=\"1\" class=\"dataframe\">\n",
       "  <thead>\n",
       "    <tr style=\"text-align: right;\">\n",
       "      <th></th>\n",
       "      <th>회사명</th>\n",
       "      <th>index</th>\n",
       "      <th>등락</th>\n",
       "    </tr>\n",
       "  </thead>\n",
       "  <tbody>\n",
       "    <tr>\n",
       "      <th>0</th>\n",
       "      <td>다우산업</td>\n",
       "      <td>34,299.33</td>\n",
       "      <td>하락</td>\n",
       "    </tr>\n",
       "    <tr>\n",
       "      <th>1</th>\n",
       "      <td>나스닥</td>\n",
       "      <td>14,072.86</td>\n",
       "      <td>하락</td>\n",
       "    </tr>\n",
       "    <tr>\n",
       "      <th>2</th>\n",
       "      <td>홍콩H</td>\n",
       "      <td>10,605.78</td>\n",
       "      <td>하락</td>\n",
       "    </tr>\n",
       "    <tr>\n",
       "      <th>3</th>\n",
       "      <td>상해종합</td>\n",
       "      <td>3,529.11</td>\n",
       "      <td>하락</td>\n",
       "    </tr>\n",
       "    <tr>\n",
       "      <th>4</th>\n",
       "      <td>니케이225</td>\n",
       "      <td>29,329.05</td>\n",
       "      <td>하락</td>\n",
       "    </tr>\n",
       "  </tbody>\n",
       "</table>\n",
       "</div>"
      ],
      "text/plain": [
       "       회사명      index  등락\n",
       "0     다우산업  34,299.33  하락\n",
       "1      나스닥  14,072.86  하락\n",
       "2      홍콩H  10,605.78  하락\n",
       "3     상해종합   3,529.11  하락\n",
       "4   니케이225  29,329.05  하락"
      ]
     },
     "execution_count": 115,
     "metadata": {},
     "output_type": "execute_result"
    }
   ],
   "source": [
    "import pandas as pd\n",
    "\n",
    "dat = { '회사명':name, 'index':index,'등락':blind }\n",
    "dat = pd.DataFrame(dat)\n",
    "dat"
   ]
  },
  {
   "cell_type": "code",
   "execution_count": 116,
   "metadata": {},
   "outputs": [
    {
     "name": "stdout",
     "output_type": "stream",
     "text": [
      "C:\\Users\\이규림\\Documents\\GitHub\\likelion\n",
      "['.git', '.ipynb_checkpoints', 'bs4.ipynb', 'html_1.html', 'README.md', 'test.py', 'Untitled.ipynb', 'untitled.txt', '네이버 증권 실습.ipynb', '네이버 증권.ipynb', '주요해외지수.xlsx', '회사명과 웹사이트.csv', '회사명과 웹사이트.xlsx']\n"
     ]
    }
   ],
   "source": [
    "dat.to_excel(\"주요해외지수.xlsx\", index=False)\n",
    "\n",
    "##확인\n",
    "import os\n",
    "print(os.getcwd())\n",
    "print(os.listdir(os.getcwd()))"
   ]
  }
 ],
 "metadata": {
  "kernelspec": {
   "display_name": "Python 3",
   "language": "python",
   "name": "python3"
  },
  "language_info": {
   "codemirror_mode": {
    "name": "ipython",
    "version": 3
   },
   "file_extension": ".py",
   "mimetype": "text/x-python",
   "name": "python",
   "nbconvert_exporter": "python",
   "pygments_lexer": "ipython3",
   "version": "3.8.5"
  }
 },
 "nbformat": 4,
 "nbformat_minor": 4
}

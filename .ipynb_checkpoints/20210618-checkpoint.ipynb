{
 "cells": [
  {
   "cell_type": "code",
   "execution_count": 1,
   "metadata": {},
   "outputs": [],
   "source": [
    "from bs4 import BeautifulSoup\n",
    "from urllib.request import urlopen"
   ]
  },
  {
   "cell_type": "code",
   "execution_count": 2,
   "metadata": {},
   "outputs": [],
   "source": [
    "url = \"https://movie.naver.com/movie/running/current.nhn\"\n",
    "page = urlopen(url)\n",
    "soup = BeautifulSoup(page, 'lxml')"
   ]
  },
  {
   "cell_type": "code",
   "execution_count": 4,
   "metadata": {},
   "outputs": [
    {
     "data": {
      "text/plain": [
       "130"
      ]
     },
     "execution_count": 4,
     "metadata": {},
     "output_type": "execute_result"
    }
   ],
   "source": [
    "chart=soup.find(\"ul\",class_=\"lst_detail_t1\").find_all('li')\n",
    "len(chart)"
   ]
  },
  {
   "cell_type": "code",
   "execution_count": 9,
   "metadata": {},
   "outputs": [
    {
     "data": {
      "text/plain": [
       "'크루엘라'"
      ]
     },
     "execution_count": 9,
     "metadata": {},
     "output_type": "execute_result"
    }
   ],
   "source": [
    "chart[0].find(\"dt\",class_=\"tit\").find(\"a\").text"
   ]
  },
  {
   "cell_type": "code",
   "execution_count": 10,
   "metadata": {},
   "outputs": [
    {
     "data": {
      "text/plain": [
       "'크루엘라'"
      ]
     },
     "execution_count": 10,
     "metadata": {},
     "output_type": "execute_result"
    }
   ],
   "source": [
    "chart[0].find(\"dt\",class_=\"tit\").a.text"
   ]
  },
  {
   "cell_type": "code",
   "execution_count": 22,
   "metadata": {},
   "outputs": [
    {
     "name": "stdout",
     "output_type": "stream",
     "text": [
      "크루엘라 평점: 9.33 예매율: 19.64 % 참여: 4,634 명 감독: 크레이그 질레스피\n",
      "콰이어트 플레이스 2 평점: 8.56 예매율: 16.63 % 참여: 412 명 감독: 존 크래신스키\n",
      "루카 평점: 9.17 예매율: 16.15 % 참여: 88 명 감독: 엔리코 카사로사\n",
      "컨저링 3: 악마가 시켰다 평점: 6.69 예매율: 7.27 % 참여: 1,780 명 감독: 마이클 차베즈\n",
      "극장판 귀멸의 칼날: 무한열차편 평점: 9.29 예매율: 6.8 % 참여: 12,386 명 감독: 소토자키 하루오\n",
      "여고괴담 여섯번째 이야기 : 모교 평점: 5.01 예매율: 6.4 % 참여: 151 명 감독: 이미영\n",
      "캐시트럭 평점: 8.21 예매율: 5.52 % 참여: 553 명 감독: 가이 리치\n",
      "분노의 질주: 더 얼티메이트 평점: 7.64 예매율: 3.38 % 참여: 5,414 명 감독: 저스틴 린\n",
      "뱅드림! 로젤리아 에피소드Ⅰ: 약속 평점: 8.55 예매율: 1.74 % 참여: 47 명 감독: 코다이 카키모토\n",
      "파이프라인 평점: 7.06 예매율: 1.55 % 참여: 1,340 명 감독: 유하\n",
      "아야와 마녀 평점: 7.39 예매율: 1.28 % 참여: 135 명 감독: 미야자키 고로\n",
      "클라이밍 평점: 7.06 예매율: 1.26 % 참여: 17 명 감독: 김혜미\n",
      "그레타 툰베리 평점: 4.00 예매율: 0.95 % 참여: 10 명 감독: 나탄 그로스만\n",
      "그 여름, 가장 차가웠던 평점: 8.50 예매율: 0.76 % 참여: 8 명 감독: 주순\n",
      "노매드랜드 평점: 8.48 예매율: 0.44 % 참여: 567 명 감독: 클로이 자오\n",
      "야구소녀 평점: 8.13 예매율: 0.42 % 참여: 906 명 감독: 최윤태\n",
      "프로페서 앤 매드맨 평점: 8.99 예매율: 0.4 % 참여: 87 명 감독: P.B. 셰므란\n",
      "혼자 사는 사람들 평점: 8.77 예매율: 0.36 % 참여: 156 명 감독: 홍성은\n",
      "굴뚝마을의 푸펠 평점: 9.05 예매율: 0.25 % 참여: 113 명 감독: 히로타 유스케\n",
      "애플 평점: 7.85 예매율: 0.23 % 참여: 47 명 감독: 크리스토스 니코우\n",
      "500일의 썸머 평점: 8.43 예매율: 0.21 % 참여: 4,502 명 감독: 마크 웹\n",
      "낫아웃 평점: 8.75 예매율: 0.21 % 참여: 132 명 감독: 이정곤\n",
      "썰 평점: 6.91 예매율: 0.21 % 참여: 55 명 감독: 황승재\n",
      "인트로덕션 평점: 8.00 예매율: 0.19 % 참여: 63 명 감독: 홍상수\n",
      "레이니 데이 인 뉴욕 평점: 5.63 예매율: 0.17 % 참여: 696 명 감독: 우디 앨런\n",
      "까치발 평점: 8.86 예매율: 0.15 % 참여: 7 명 감독: 권우정\n",
      "더 파더 평점: 8.91 예매율: 0.15 % 참여: 331 명 감독: 플로리안 젤러\n",
      "#위왓치유 평점: 9.05 예매율: 0.13 % 참여: 20 명 감독: 바르보라 차르포바\n",
      "청춘 선거 평점: 9.60 예매율: 0.13 % 참여: 5 명 감독: 민환기\n",
      "중경삼림 평점: 8.93 예매율: 0.11 % 참여: 2,556 명 감독: 왕가위\n",
      "극장판 콩순이: 장난감나라 대모험 평점: 8.94 예매율: 0.11 % 참여: 159 명 감독: 이선명\n",
      "너의 이름은. 평점: 8.79 예매율: 0.11 % 참여: 32,699 명 감독: 신카이 마코토\n",
      "포겟 미 낫-엄마에게 쓰는 편지 평점: 9.25 예매율: 0.1 % 참여: 8 명 감독: 선희 엥겔스토프\n",
      "사랑하고 사랑받고 차고 차이고 평점: 8.56 예매율: 0.1 % 참여: 34 명 감독: 미키 타카히로\n",
      "크루즈 패밀리: 뉴 에이지 평점: 9.03 예매율: 0.08 % 참여: 426 명 감독: 조엘 크로포드\n",
      "학교 가는 길 평점: 9.59 예매율: 0.08 % 참여: 133 명 감독: 김정인\n",
      "라이더스 오브 저스티스 평점: 7.64 예매율: 0.08 % 참여: 108 명 감독: 앤더스 토마스 옌센\n",
      "미나리 평점: 7.67 예매율: 0.06 % 참여: 5,077 명 감독: 정이삭\n",
      "화양연화 평점: 8.77 예매율: 0.06 % 참여: 1,874 명 감독: 왕가위\n",
      "명탐정 코난: 비색의 탄환 평점: 8.93 예매율: 0.06 % 참여: 841 명 감독: 나가오카 치카\n",
      "강변호텔 평점: 5.98 예매율: 0.04 % 참여: 406 명 감독: 홍상수\n",
      "화이트 온 화이트 평점: 7.54 예매율: 0.04 % 참여: 13 명 감독: 테오 코트\n",
      "도라에몽: 스탠바이미 2 평점: 9.01 예매율: 0.04 % 참여: 234 명 감독: 야기 류이치\n",
      "폭력의 그림자 평점: 0.00 예매율: 0.04 % 참여: 0 명 감독: 닉 로우랜드\n",
      "쿠사마 야요이: 무한의 세계 평점: 9.24 예매율: 0.04 % 참여: 17 명 감독: 헤더 렌즈\n",
      "날씨의 아이 평점: 7.95 예매율: 0.04 % 참여: 5,956 명 감독: 신카이 마코토\n",
      "토토리! 우리 둘만의 여름 평점: 8.37 예매율: 0.04 % 참여: 19 명 감독: 아릴드 오스틴 아문센\n",
      "언어의 정원 평점: 8.17 예매율: 0.02 % 참여: 2,469 명 감독: 신카이 마코토\n",
      "어른들은 몰라요 평점: 5.03 예매율: 0.02 % 참여: 890 명 감독: 이환\n",
      "내겐 너무 소중한 너 평점: 9.04 예매율: 0.02 % 참여: 163 명 감독: 이창원\n",
      "강호아녀 평점: 6.11 예매율: 0.02 % 참여: 19 명 감독: 지아장커\n",
      "마세티 킬즈 평점: 6.80 예매율: 0.02 % 참여: 245 명 감독: 로버트 로드리게즈\n",
      "빅 피쉬 평점: 9.02 예매율: 0.02 % 참여: 3,134 명 감독: 팀 버튼\n",
      "플래시백 평점: 6.00 예매율: 0.02 % 참여: 26 명 감독: 크리스토퍼 맥브라이드\n",
      "분노의 질주 평점: 8.27 예매율: 0.01 % 참여: 566 명 감독: 롭 코헨\n",
      "미스피츠 평점: 3.58 예매율: 0.01 % 참여: 24 명 감독: 레니 할린\n",
      "스쿨 오브 락(樂) 평점: 8.36 예매율: 0.01 % 참여: 11 명 감독: 강호준\n",
      "부활: 그 증거 평점: 9.30 예매율: 0.01 % 참여: 418 명 감독: 김상철\n",
      "분노 평점: 8.57 예매율: 0.01 % 참여: 1,295 명 감독: 이상일\n",
      "비커밍 아스트리드 평점: 7.60 예매율: 0.01 % 참여: 15 명 감독: 페르닐레 피셔 크리스텐센\n",
      "쿠오바디스, 아이다 평점: 8.74 예매율: 0.01 % 참여: 23 명 감독: 야스밀라 즈바니치\n",
      "흐린 하늘에 웃다 평점: 1.00 예매율: 0.01 % 참여: 1 명 감독: 모토히로 카츠유키\n",
      "그을린 사랑 평점: 8.68 예매율: 0.01 % 참여: 984 명 감독: 드니 빌뇌브\n",
      "노 게임 노 라이프 -제로- 평점: 7.26 예매율: 0.01 % 참여: 3,170 명 감독: 이시즈카 아츠코\n",
      "봉쇄수도원 카르투시오 평점: 9.34 예매율: 0.01 % 참여: 74 명 감독: 김동일\n",
      "블루 재스민 평점: 8.51 예매율: 0.01 % 참여: 933 명 감독: 우디 앨런\n",
      "서칭 포 슈가맨 평점: 9.04 예매율: 0.01 % 참여: 801 명 감독: 말릭 벤젤룰\n",
      "아들의 이름으로 평점: 6.48 예매율: 0.01 % 참여: 322 명 감독: 이정국\n",
      "억남 평점: 7.25 예매율: 0.01 % 참여: 4 명 감독: 오오토모 케이시\n",
      "가을 햇살 평점: 7.61 예매율: 0.01 % 참여: 23 명 감독: 오즈 야스지로\n",
      "간츠: 오 평점: 8.19 예매율: 0.01 % 참여: 472 명 감독: 사이토 케이이치\n",
      "구름의 저편, 약속의 장소 평점: 6.93 예매율: 0.01 % 참여: 107 명 감독: 신카이 마코토\n",
      "그 여름 가장 조용한 바다 평점: 8.76 예매율: 0.01 % 참여: 248 명 감독: 기타노 다케시\n",
      "그리고 삶은 계속된다 평점: 8.39 예매율: 0.01 % 참여: 33 명 감독: 압바스 키아로스타미\n",
      "꽁치의 맛 평점: 8.71 예매율: 0.01 % 참여: 86 명 감독: 오즈 야스지로\n",
      "나츠메 우인장: 세상과 연을 맺다 평점: 9.27 예매율: 0.01 % 참여: 229 명 감독: 오오모리 타카히로\n",
      "날으는 해병대 평점: 0.00 예매율: 0.01 % 참여: 0 명 감독: 니콜라스 레이\n",
      "내 친구의 집은 어디인가 평점: 9.12 예매율: 0.01 % 참여: 153 명 감독: 압바스 키아로스타미\n",
      "내언니전지현과 나 평점: 9.15 예매율: 0.01 % 참여: 179 명 감독: 박윤진\n",
      "네가 내가 되었으면 좋겠다 평점: 7.76 예매율: 0.01 % 참여: 21 명 감독: 김충길\n",
      "덕구 평점: 9.43 예매율: 0.01 % 참여: 2,638 명 감독: 방수인\n",
      "도망친 여자 평점: 6.79 예매율: 0.01 % 참여: 290 명 감독: 홍상수\n",
      "동경의 황혼 평점: 8.29 예매율: 0.01 % 참여: 17 명 감독: 오즈 야스지로\n",
      "라스트 씬 평점: 7.11 예매율: 0.01 % 참여: 9 명 감독: 박배일\n",
      "러브 라이브! 선샤인!! 더 스쿨 아이돌 무비 오버 더 레인보우 평점: 8.35 예매율: 0.01 % 참여: 344 명 감독: 사카이 카즈오\n",
      "러브 액츄얼리 평점: 8.93 예매율: 0.01 % 참여: 5,786 명 감독: 리차드 커티스\n",
      "마스터 평점: 7.95 예매율: 0.01 % 참여: 669 명 감독: 폴 토마스 앤더슨\n",
      "무순, 세상을 가로질러 평점: 8.40 예매율: 0.01 % 참여: 10 명 감독: 남승석\n",
      "문라이즈 킹덤 평점: 8.13 예매율: 0.01 % 참여: 657 명 감독: 웨스 앤더슨\n",
      "미스터 노바디 평점: 8.25 예매율: 0.01 % 참여: 819 명 감독: 자코 반 도마엘\n",
      "바람이 우리를 데려다 주리라 평점: 8.12 예매율: 0.01 % 참여: 24 명 감독: 압바스 키아로스타미\n",
      "버티고 평점: 6.27 예매율: 0.01 % 참여: 349 명 감독: 전계수\n",
      "벙어리 삼룡 평점: 6.40 예매율: 0.01 % 참여: 5 명 감독: 나운규\n",
      "별을 쫓는 아이 평점: 7.92 예매율: 0.01 % 참여: 1,407 명 감독: 신카이 마코토\n",
      "소공녀 평점: 8.79 예매율: 0.01 % 참여: 2,824 명 감독: 전고운\n",
      "소리에 놀라지 않는 사자처럼 평점: 9.17 예매율: 0.01 % 참여: 6 명 감독: 윤성준\n",
      "슈퍼노바 평점: 7.79 예매율: 0.01 % 참여: 48 명 감독: 해리 맥퀸\n",
      "실크 로드 평점: 8.06 예매율: 0.01 % 참여: 17 명 감독: 틸러 러셀\n",
      "엔딩 노트 평점: 8.93 예매율: 0.01 % 참여: 177 명 감독: 마미 스나다\n",
      "여름날 평점: 8.89 예매율: 0.01 % 참여: 19 명 감독: 오정석\n",
      "여호 평점: 7.00 예매율: 0.01 % 참여: 1 명 감독: 마이클 포웰\n",
      "원더풀 라이프 평점: 8.01 예매율: 0.01 % 참여: 352 명 감독: 고레에다 히로카즈\n",
      "유스 평점: 8.34 예매율: 0.01 % 참여: 1,006 명 감독: 파올로 소렌티노\n",
      "유전 평점: 7.23 예매율: 0.01 % 참여: 3,303 명 감독: 아리 에스터\n",
      "은혼 평점: 7.19 예매율: 0.01 % 참여: 486 명 감독: 후쿠다 유이치\n",
      "은혼2: 규칙은 깨라고 있는 것 평점: 8.35 예매율: 0.01 % 참여: 197 명 감독: 후쿠다 유이치\n",
      "이별의 아침에 약속의 꽃을 장식하자 평점: 8.88 예매율: 0.01 % 참여: 1,387 명 감독: 오카다 마리\n",
      "인디언 전사 평점: 5.00 예매율: 0.01 % 참여: 1 명 감독: 안드레 드 토스\n",
      "전야 평점: 7.78 예매율: 0.01 % 참여: 87 명 감독: 김상민\n",
      "전주에서 길을 묻다 평점: 8.00 예매율: 0.01 % 참여: 9 명 감독: 진승현\n",
      "좋은 빛, 좋은 공기 평점: 7.35 예매율: 0.01 % 참여: 48 명 감독: 임흥순\n",
      "찬실이는 복도 많지 평점: 8.76 예매율: 0.01 % 참여: 1,003 명 감독: 김초희\n",
      "창문넘어 도망친 100세 노인 평점: 7.84 예매율: 0.01 % 참여: 1,832 명 감독: 플렉스 할그렌\n",
      "천당의 밤과 안개 평점: 8.08 예매율: 0.01 % 참여: 12 명 감독: 정성일\n",
      "체리 향기 평점: 8.75 예매율: 0.01 % 참여: 142 명 감독: 압바스 키아로스타미\n",
      "초여름 평점: 7.88 예매율: 0.01 % 참여: 17 명 감독: 오즈 야스지로\n",
      "타오르는 여인의 초상 평점: 9.05 예매율: 0.01 % 참여: 1,787 명 감독: 셀린 시아마\n",
      "파도를 걷는 소년 평점: 6.97 예매율: 0.01 % 참여: 37 명 감독: 최창환\n",
      "패터슨 평점: 8.30 예매율: 0.01 % 참여: 1,208 명 감독: 짐 자무쉬\n",
      "페이트 스테이 나이트 헤븐즈필 제1장 프레시지 플라워 평점: 7.11 예매율: 0.01 % 참여: 829 명 감독: 스도 토모노리\n",
      "플로리다 프로젝트 평점: 8.65 예매율: 0.01 % 참여: 1,805 명 감독: 션 베이커\n",
      "해피 투게더 평점: 9.20 예매율: 0.01 % 참여: 1,161 명 감독: 왕가위\n",
      "혼자 평점: 5.01 예매율: 0.01 % 참여: 99 명 감독: 박홍민\n",
      "화녀 평점: 8.25 예매율: 0.01 % 참여: 56 명 감독: 김기영\n"
     ]
    },
    {
     "ename": "IndexError",
     "evalue": "list index out of range",
     "output_type": "error",
     "traceback": [
      "\u001b[1;31m---------------------------------------------------------------------------\u001b[0m",
      "\u001b[1;31mIndexError\u001b[0m                                Traceback (most recent call last)",
      "\u001b[1;32m<ipython-input-22-958f844fb911>\u001b[0m in \u001b[0;36m<module>\u001b[1;34m\u001b[0m\n\u001b[0;32m      3\u001b[0m     \u001b[0mtitle\u001b[0m \u001b[1;33m=\u001b[0m \u001b[0mi\u001b[0m\u001b[1;33m.\u001b[0m\u001b[0mfind\u001b[0m\u001b[1;33m(\u001b[0m\u001b[1;34m\"dt\"\u001b[0m\u001b[1;33m,\u001b[0m\u001b[0mclass_\u001b[0m\u001b[1;33m=\u001b[0m\u001b[1;34m\"tit\"\u001b[0m\u001b[1;33m)\u001b[0m\u001b[1;33m.\u001b[0m\u001b[0ma\u001b[0m\u001b[1;33m.\u001b[0m\u001b[0mtext\u001b[0m\u001b[1;33m\u001b[0m\u001b[1;33m\u001b[0m\u001b[0m\n\u001b[0;32m      4\u001b[0m     \u001b[0mrate\u001b[0m\u001b[1;33m=\u001b[0m\u001b[0mi\u001b[0m\u001b[1;33m.\u001b[0m\u001b[0mfind\u001b[0m\u001b[1;33m(\u001b[0m\u001b[1;34m\"span\"\u001b[0m\u001b[1;33m,\u001b[0m \u001b[0mclass_\u001b[0m\u001b[1;33m=\u001b[0m\u001b[1;34m\"num\"\u001b[0m\u001b[1;33m)\u001b[0m\u001b[1;33m.\u001b[0m\u001b[0mtext\u001b[0m \u001b[1;31m#평점\u001b[0m\u001b[1;33m\u001b[0m\u001b[1;33m\u001b[0m\u001b[0m\n\u001b[1;32m----> 5\u001b[1;33m     \u001b[0mview\u001b[0m\u001b[1;33m=\u001b[0m\u001b[0mi\u001b[0m\u001b[1;33m.\u001b[0m\u001b[0mfind_all\u001b[0m\u001b[1;33m(\u001b[0m\u001b[1;34m\"span\"\u001b[0m\u001b[1;33m,\u001b[0m \u001b[0mclass_\u001b[0m\u001b[1;33m=\u001b[0m\u001b[1;34m\"num\"\u001b[0m\u001b[1;33m)\u001b[0m\u001b[1;33m[\u001b[0m\u001b[1;36m1\u001b[0m\u001b[1;33m]\u001b[0m\u001b[1;33m.\u001b[0m\u001b[0mtext\u001b[0m \u001b[1;31m#예매율\u001b[0m\u001b[1;33m\u001b[0m\u001b[1;33m\u001b[0m\u001b[0m\n\u001b[0m\u001b[0;32m      6\u001b[0m     \u001b[0mpar\u001b[0m\u001b[1;33m=\u001b[0m\u001b[0mi\u001b[0m\u001b[1;33m.\u001b[0m\u001b[0mfind\u001b[0m\u001b[1;33m(\u001b[0m\u001b[1;34m'em'\u001b[0m\u001b[1;33m)\u001b[0m\u001b[1;33m.\u001b[0m\u001b[0mtext\u001b[0m\u001b[1;33m\u001b[0m\u001b[1;33m\u001b[0m\u001b[0m\n\u001b[0;32m      7\u001b[0m     \u001b[0mdi\u001b[0m\u001b[1;33m=\u001b[0m\u001b[0mi\u001b[0m\u001b[1;33m.\u001b[0m\u001b[0mfind_all\u001b[0m\u001b[1;33m(\u001b[0m\u001b[1;34m\"span\"\u001b[0m\u001b[1;33m,\u001b[0m \u001b[0mclass_\u001b[0m\u001b[1;33m=\u001b[0m\u001b[1;34m\"link_txt\"\u001b[0m\u001b[1;33m)\u001b[0m\u001b[1;33m[\u001b[0m\u001b[1;36m1\u001b[0m\u001b[1;33m]\u001b[0m\u001b[1;33m.\u001b[0m\u001b[0ma\u001b[0m\u001b[1;33m.\u001b[0m\u001b[0mtext\u001b[0m\u001b[1;33m\u001b[0m\u001b[1;33m\u001b[0m\u001b[0m\n",
      "\u001b[1;31mIndexError\u001b[0m: list index out of range"
     ]
    }
   ],
   "source": [
    "chart=soup.find(\"ul\",class_=\"lst_detail_t1\").find_all('li')\n",
    "for i in chart:\n",
    "    title = i.find(\"dt\",class_=\"tit\").a.text\n",
    "    rate=i.find(\"span\", class_=\"num\").text #평점\n",
    "    view=i.find_all(\"span\", class_=\"num\")[1].text #예매율\n",
    "    par=i.find('em').text\n",
    "    di=i.find_all(\"span\", class_=\"link_txt\")[1].a.text\n",
    "    \n",
    "    print(title,\"평점:\",rate,\"예매율:\",view,\"%\",\"참여:\",par,\"명\",\"감독:\",di)"
   ]
  },
  {
   "cell_type": "code",
   "execution_count": 13,
   "metadata": {},
   "outputs": [
    {
     "data": {
      "text/plain": [
       "'9.33'"
      ]
     },
     "execution_count": 13,
     "metadata": {},
     "output_type": "execute_result"
    }
   ],
   "source": [
    "chart[0].find(\"span\", class_=\"num\").text #평점"
   ]
  },
  {
   "cell_type": "code",
   "execution_count": 15,
   "metadata": {},
   "outputs": [
    {
     "data": {
      "text/plain": [
       "'19.64'"
      ]
     },
     "execution_count": 15,
     "metadata": {},
     "output_type": "execute_result"
    }
   ],
   "source": [
    "chart[0].find_all(\"span\", class_=\"num\")[1].text #예매율"
   ]
  },
  {
   "cell_type": "code",
   "execution_count": 20,
   "metadata": {},
   "outputs": [
    {
     "data": {
      "text/plain": [
       "'19.64'"
      ]
     },
     "execution_count": 20,
     "metadata": {},
     "output_type": "execute_result"
    }
   ],
   "source": [
    "chart[0].find(\"dl\",class_=\"info_exp\").span.text"
   ]
  },
  {
   "cell_type": "code",
   "execution_count": 16,
   "metadata": {},
   "outputs": [
    {
     "data": {
      "text/plain": [
       "'참여 4,634명'"
      ]
     },
     "execution_count": 16,
     "metadata": {},
     "output_type": "execute_result"
    }
   ],
   "source": [
    "chart[0].find(\"span\", class_=\"num2\").text"
   ]
  },
  {
   "cell_type": "code",
   "execution_count": 21,
   "metadata": {},
   "outputs": [
    {
     "data": {
      "text/plain": [
       "'4,634'"
      ]
     },
     "execution_count": 21,
     "metadata": {},
     "output_type": "execute_result"
    }
   ],
   "source": [
    "chart[0].find('em').text"
   ]
  },
  {
   "cell_type": "code",
   "execution_count": 35,
   "metadata": {},
   "outputs": [
    {
     "data": {
      "text/plain": [
       "'크레이그 질레스피'"
      ]
     },
     "execution_count": 35,
     "metadata": {},
     "output_type": "execute_result"
    }
   ],
   "source": [
    "chart[0].find_all(\"span\", class_=\"link_txt\")[1].a.text"
   ]
  },
  {
   "cell_type": "code",
   "execution_count": 39,
   "metadata": {},
   "outputs": [
    {
     "data": {
      "text/plain": [
       "'크레이그 질레스피'"
      ]
     },
     "execution_count": 39,
     "metadata": {},
     "output_type": "execute_result"
    }
   ],
   "source": [
    "chart[0].find(\"dl\", class_=\"info_txt1\").findAll(\"dd\")[1].text.strip()"
   ]
  },
  {
   "cell_type": "code",
   "execution_count": 40,
   "metadata": {},
   "outputs": [
    {
     "name": "stdout",
     "output_type": "stream",
     "text": [
      "130 130\n"
     ]
    }
   ],
   "source": [
    "chart=soup.find(\"ul\",class_=\"lst_detail_t1\").find_all('li')\n",
    "\n",
    "title=[]\n",
    "rate=[]\n",
    "view=[]\n",
    "par=[]\n",
    "di=[]\n",
    "\n",
    "for i in chart:\n",
    "    title1 = i.find(\"dt\",class_=\"tit\").a.text\n",
    "    rate1=i.find(\"span\", class_=\"num\").text #평점\n",
    "    \n",
    "    view1=i.find(\"dl\",class_=\"info_exp\")\n",
    "    if view1 is not None:\n",
    "        view2=i.find(\"dl\",class_=\"info_exp\").span.text\n",
    "    else:\n",
    "        view2 = '0'\n",
    "        \n",
    "    par1=i.find('em').text\n",
    "    \n",
    "    di1=i.find(\"dl\", class_=\"info_txt1\").findAll(\"dd\")[1].text.strip()\n",
    "    di1=di1.translate( { ord('\\n'):\"\", ord('\\r'):\"\", ord('\\t'):\"\" } )\n",
    "    \n",
    "    title.append(title1)\n",
    "    rate.append(rate1)\n",
    "    view.append(view1)\n",
    "    par.append(par1)\n",
    "    di.append(di1)\n",
    "    \n",
    "print(len(title),len(rate))"
   ]
  },
  {
   "cell_type": "code",
   "execution_count": 33,
   "metadata": {},
   "outputs": [
    {
     "ename": "IndexError",
     "evalue": "list index out of range",
     "output_type": "error",
     "traceback": [
      "\u001b[1;31m---------------------------------------------------------------------------\u001b[0m",
      "\u001b[1;31mIndexError\u001b[0m                                Traceback (most recent call last)",
      "\u001b[1;32m<ipython-input-33-e1bf50c842d6>\u001b[0m in \u001b[0;36m<module>\u001b[1;34m\u001b[0m\n\u001b[0;32m     10\u001b[0m     \u001b[0mtitle1\u001b[0m \u001b[1;33m=\u001b[0m \u001b[0mi\u001b[0m\u001b[1;33m.\u001b[0m\u001b[0mfind\u001b[0m\u001b[1;33m(\u001b[0m\u001b[1;34m\"dt\"\u001b[0m\u001b[1;33m,\u001b[0m\u001b[0mclass_\u001b[0m\u001b[1;33m=\u001b[0m\u001b[1;34m\"tit\"\u001b[0m\u001b[1;33m)\u001b[0m\u001b[1;33m.\u001b[0m\u001b[0ma\u001b[0m\u001b[1;33m.\u001b[0m\u001b[0mtext\u001b[0m\u001b[1;33m\u001b[0m\u001b[1;33m\u001b[0m\u001b[0m\n\u001b[0;32m     11\u001b[0m     \u001b[0mrate1\u001b[0m\u001b[1;33m=\u001b[0m\u001b[0mi\u001b[0m\u001b[1;33m.\u001b[0m\u001b[0mfind\u001b[0m\u001b[1;33m(\u001b[0m\u001b[1;34m\"span\"\u001b[0m\u001b[1;33m,\u001b[0m \u001b[0mclass_\u001b[0m\u001b[1;33m=\u001b[0m\u001b[1;34m\"num\"\u001b[0m\u001b[1;33m)\u001b[0m\u001b[1;33m.\u001b[0m\u001b[0mtext\u001b[0m \u001b[1;31m#평점\u001b[0m\u001b[1;33m\u001b[0m\u001b[1;33m\u001b[0m\u001b[0m\n\u001b[1;32m---> 12\u001b[1;33m     \u001b[0mview1\u001b[0m\u001b[1;33m=\u001b[0m\u001b[0mi\u001b[0m\u001b[1;33m.\u001b[0m\u001b[0mfind_all\u001b[0m\u001b[1;33m(\u001b[0m\u001b[1;34m\"span\"\u001b[0m\u001b[1;33m,\u001b[0m \u001b[0mclass_\u001b[0m\u001b[1;33m=\u001b[0m\u001b[1;34m\"num\"\u001b[0m\u001b[1;33m)\u001b[0m\u001b[1;33m[\u001b[0m\u001b[1;36m1\u001b[0m\u001b[1;33m]\u001b[0m \u001b[1;31m#예매율\u001b[0m\u001b[1;33m\u001b[0m\u001b[1;33m\u001b[0m\u001b[0m\n\u001b[0m\u001b[0;32m     13\u001b[0m     \u001b[1;32mif\u001b[0m \u001b[0mview1\u001b[0m \u001b[1;32mis\u001b[0m \u001b[1;32mnot\u001b[0m \u001b[1;32mNone\u001b[0m\u001b[1;33m:\u001b[0m\u001b[1;33m\u001b[0m\u001b[1;33m\u001b[0m\u001b[0m\n\u001b[0;32m     14\u001b[0m         \u001b[0mview2\u001b[0m\u001b[1;33m=\u001b[0m\u001b[0mi\u001b[0m\u001b[1;33m.\u001b[0m\u001b[0mfind_all\u001b[0m\u001b[1;33m(\u001b[0m\u001b[1;34m\"span\"\u001b[0m\u001b[1;33m,\u001b[0m \u001b[0mclass_\u001b[0m\u001b[1;33m=\u001b[0m\u001b[1;34m\"num\"\u001b[0m\u001b[1;33m)\u001b[0m\u001b[1;33m[\u001b[0m\u001b[1;36m1\u001b[0m\u001b[1;33m]\u001b[0m\u001b[1;33m.\u001b[0m\u001b[0mtext\u001b[0m\u001b[1;33m\u001b[0m\u001b[1;33m\u001b[0m\u001b[0m\n",
      "\u001b[1;31mIndexError\u001b[0m: list index out of range"
     ]
    }
   ],
   "source": [
    "chart=soup.find(\"ul\",class_=\"lst_detail_t1\").find_all('li')\n",
    "\n",
    "title=[]\n",
    "rate=[]\n",
    "view=[]\n",
    "par=[]\n",
    "di=[]\n",
    "\n",
    "for i in chart:\n",
    "    title1 = i.find(\"dt\",class_=\"tit\").a.text\n",
    "    rate1=i.find(\"span\", class_=\"num\").text #평점\n",
    "    view1=i.find_all(\"span\", class_=\"num\")[1] #예매율\n",
    "    if view1 is not None:\n",
    "        view2=i.find_all(\"span\", class_=\"num\")[1].text\n",
    "    else:\n",
    "        view2 = '0'\n",
    "        \n",
    "    par1=i.find('em').text\n",
    "    di1=i.find_all(\"span\", class_=\"link_txt\")[1].a.text\n",
    "    \n",
    "    title.append(title1)\n",
    "    rate.append(rate1)\n",
    "    view.append(view1)\n",
    "    par.append(par1)\n",
    "    di.append(di1)\n",
    "    \n",
    "print(len(title),len(rate))"
   ]
  }
 ],
 "metadata": {
  "kernelspec": {
   "display_name": "Python 3",
   "language": "python",
   "name": "python3"
  },
  "language_info": {
   "codemirror_mode": {
    "name": "ipython",
    "version": 3
   },
   "file_extension": ".py",
   "mimetype": "text/x-python",
   "name": "python",
   "nbconvert_exporter": "python",
   "pygments_lexer": "ipython3",
   "version": "3.8.5"
  }
 },
 "nbformat": 4,
 "nbformat_minor": 4
}

{
 "cells": [
  {
   "cell_type": "code",
   "execution_count": 1,
   "metadata": {},
   "outputs": [],
   "source": [
    "from urllib.request import urlopen\n",
    "from bs4 import BeautifulSoup"
   ]
  },
  {
   "cell_type": "code",
   "execution_count": 4,
   "metadata": {},
   "outputs": [
    {
     "data": {
      "text/plain": [
       "bs4.BeautifulSoup"
      ]
     },
     "execution_count": 4,
     "metadata": {},
     "output_type": "execute_result"
    }
   ],
   "source": [
    "url = \"https://finance.naver.com/sise/\"\n",
    "page = urlopen(url)\n",
    "soup = BeautifulSoup(page, \"html.parser\")\n",
    "type(soup)"
   ]
  },
  {
   "cell_type": "code",
   "execution_count": 5,
   "metadata": {},
   "outputs": [
    {
     "name": "stdout",
     "output_type": "stream",
     "text": [
      "현재 코스피 지수는 : 3,252.13\n",
      "현재 코스닥 지수는 : 997.41\n",
      "현재 코스피200 지수는 : 433.22\n"
     ]
    }
   ],
   "source": [
    "kospi = soup.find(\"span\", id=\"KOSPI_now\").text\n",
    "kosdaq = soup.find(\"span\", id=\"KOSDAQ_now\").text\n",
    "kospi200 = soup.find(\"span\", id=\"KPI200_now\").text\n",
    "\n",
    "print(\"현재 코스피 지수는 :\", kospi)\n",
    "print(\"현재 코스닥 지수는 :\", kosdaq)\n",
    "print(\"현재 코스피200 지수는 :\", kospi200)"
   ]
  },
  {
   "cell_type": "code",
   "execution_count": 9,
   "metadata": {},
   "outputs": [
    {
     "name": "stdout",
     "output_type": "stream",
     "text": [
      "프로그램 매매동향은 : \n",
      "프로그램 매매동향\n",
      "\n",
      "차익\n",
      "-100억\n",
      "\n",
      "\n",
      "비차익\n",
      "-817억\n",
      "\n",
      "\n",
      "전체\n",
      "-917억\n",
      "\n",
      "\n"
     ]
    }
   ],
   "source": [
    "##프로그램 매매동향 가져오기\n",
    "trend = soup.find(\"dl\", id=\"basis_trend\").text\n",
    "print(\"프로그램 매매동향은 :\", trend)"
   ]
  },
  {
   "cell_type": "code",
   "execution_count": 10,
   "metadata": {},
   "outputs": [
    {
     "name": "stdout",
     "output_type": "stream",
     "text": [
      "\n",
      "프로그램 매매동향\n",
      "\n",
      "차익\n",
      "-100억\n",
      "\n",
      "\n",
      "비차익\n",
      "-817억\n",
      "\n",
      "\n",
      "전체\n",
      "-917억\n",
      "\n",
      "\n"
     ]
    }
   ],
   "source": [
    "trend = soup.find(\"dl\", id=\"basis_trend\").text\n",
    "print(trend)"
   ]
  },
  {
   "cell_type": "code",
   "execution_count": 8,
   "metadata": {},
   "outputs": [
    {
     "name": "stdout",
     "output_type": "stream",
     "text": [
      " 차익 -100억 \n",
      " 비차익 -817억 \n",
      " 전체 -917억 \n"
     ]
    }
   ],
   "source": [
    "soup_p = soup.find(\"dl\", id='basis_trend').find(\"dd\", class_=\"profit\").text\n",
    "print( soup_p.replace(\"\\n\", \" \") )\n",
    "soup_p = soup.find(\"dl\", id='basis_trend').find(\"dd\", class_=\"loss\").text\n",
    "print( soup_p.replace(\"\\n\", \" \") )\n",
    "soup_p = soup.find(\"dl\", id='basis_trend').find(\"dd\", class_=\"total\").text\n",
    "print( soup_p.replace(\"\\n\", \" \") )\n"
   ]
  },
  {
   "cell_type": "code",
   "execution_count": null,
   "metadata": {},
   "outputs": [],
   "source": []
  }
 ],
 "metadata": {
  "kernelspec": {
   "display_name": "Python 3",
   "language": "python",
   "name": "python3"
  },
  "language_info": {
   "codemirror_mode": {
    "name": "ipython",
    "version": 3
   },
   "file_extension": ".py",
   "mimetype": "text/x-python",
   "name": "python",
   "nbconvert_exporter": "python",
   "pygments_lexer": "ipython3",
   "version": "3.8.5"
  }
 },
 "nbformat": 4,
 "nbformat_minor": 4
}

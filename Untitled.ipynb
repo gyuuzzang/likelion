{
 "cells": [
  {
   "cell_type": "markdown",
   "metadata": {},
   "source": [
    "## 오늘의 실습\n",
    "* 영화를 하나 정해서 리뷰를 50페이지 정도를 가지고 와서, csv파일에 내용을 저장한다.\n",
    "* 해당 csv 파일을 불러와 워드 클라우드 시각화를 수행한다.\n",
    "* slack 에 한 내용(capture 사진)을 공유한다.\n",
    "* 구글 드라이브에 체크를 해 주세요.(실습)"
   ]
  },
  {
   "cell_type": "code",
   "execution_count": null,
   "metadata": {},
   "outputs": [],
   "source": [
    "from urllib.request import urlopen\n",
    "from bs4 import BeautifulSoup"
   ]
  },
  {
   "cell_type": "code",
   "execution_count": null,
   "metadata": {},
   "outputs": [],
   "source": [
    "cruella=\"https://movie.naver.com/movie/point/af/list.nhn?st=mcode&sword=187322\""
   ]
  },
  {
   "cell_type": "code",
   "execution_count": null,
   "metadata": {},
   "outputs": [],
   "source": [
    "page = urlopen(url1)\n",
    "soup = BeautifulSoup(page, \"html.parser\")\n",
    "comment_all = soup.find_all('td', class_='title')"
   ]
  },
  {
   "cell_type": "code",
   "execution_count": null,
   "metadata": {},
   "outputs": [],
   "source": [
    "import time\n",
    "\n",
    "comments = []\n",
    "cnt = 0\n",
    "\n",
    "for i in range(1,8):\n",
    "    url = cruella + str(i)\n",
    "    page = urlopen(url)\n",
    "    soup = BeautifulSoup(page,'html.parser')\n",
    "    \n",
    "    comment_all = soup.find_all('td', class_='title')\n",
    "    \n",
    "    for comment in comment_all:\n",
    "        temp= list(comment.children)[6].strip()\n",
    "        comments.append(temp)\n",
    "        \n",
    "    time.sleep(1)\n",
    "    \n",
    "print(len(comments))\n",
    "print(comments)"
   ]
  }
 ],
 "metadata": {
  "kernelspec": {
   "display_name": "Python 3",
   "language": "python",
   "name": "python3"
  }
 },
 "nbformat": 4,
 "nbformat_minor": 4
}

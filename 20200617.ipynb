{
 "cells": [
  {
   "cell_type": "code",
   "execution_count": 1,
   "metadata": {},
   "outputs": [],
   "source": [
    "from urllib.request import urlopen\n",
    "from bs4 import BeautifulSoup"
   ]
  },
  {
   "cell_type": "code",
   "execution_count": 2,
   "metadata": {},
   "outputs": [],
   "source": [
    "url = \"https://finance.naver.com/sise/\""
   ]
  },
  {
   "cell_type": "code",
   "execution_count": 3,
   "metadata": {},
   "outputs": [],
   "source": [
    "page = urlopen(url)\n",
    "page\n",
    "soup = BeautifulSoup(page, \"html.parser\")"
   ]
  },
  {
   "cell_type": "code",
   "execution_count": 4,
   "metadata": {},
   "outputs": [
    {
     "name": "stdout",
     "output_type": "stream",
     "text": [
      "<span class=\"num num2\" id=\"KOSDAQ_now\">998.01</span>\n",
      "998.01\n"
     ]
    }
   ],
   "source": [
    "print(soup.find('span', id='KOSDAQ_now') )\n",
    "print(soup.find('span', id='KOSDAQ_now').text )"
   ]
  },
  {
   "cell_type": "code",
   "execution_count": 5,
   "metadata": {},
   "outputs": [],
   "source": [
    "my_stock = ['삼성전자', '카카오', '유한양행', 'NAVER']\n",
    "my_stock_code = ['005930','035720', '000100', '035420']"
   ]
  },
  {
   "cell_type": "code",
   "execution_count": 6,
   "metadata": {},
   "outputs": [
    {
     "data": {
      "text/plain": [
       "<title>유한양행 : 네이버 금융</title>"
      ]
     },
     "execution_count": 6,
     "metadata": {},
     "output_type": "execute_result"
    }
   ],
   "source": [
    "chk_url = 'https://finance.naver.com/item/main.nhn?code=000100'\n",
    "page = urlopen(chk_url)\n",
    "soup = BeautifulSoup(page, 'lxml')\n",
    "soup.title"
   ]
  },
  {
   "cell_type": "code",
   "execution_count": 11,
   "metadata": {},
   "outputs": [
    {
     "data": {
      "text/plain": [
       "'63,100'"
      ]
     },
     "execution_count": 11,
     "metadata": {},
     "output_type": "execute_result"
    }
   ],
   "source": [
    "soup.find(\"p\",class_='no_today').find('span', class_='blind').text"
   ]
  },
  {
   "cell_type": "code",
   "execution_count": 12,
   "metadata": {},
   "outputs": [
    {
     "data": {
      "text/plain": [
       "['\\n',\n",
       " <em class=\"no_down\">\n",
       " <span class=\"blind\">63,100</span>\n",
       " <span class=\"no6\">6</span><span class=\"no3\">3</span><span class=\"shim\">,</span><span class=\"no1\">1</span><span class=\"no0\">0</span><span class=\"no0\">0</span>\n",
       " </em>,\n",
       " '\\n']"
      ]
     },
     "execution_count": 12,
     "metadata": {},
     "output_type": "execute_result"
    }
   ],
   "source": [
    "list(soup.find(\"p\",class_='no_today').children)"
   ]
  },
  {
   "cell_type": "code",
   "execution_count": 27,
   "metadata": {},
   "outputs": [
    {
     "name": "stdout",
     "output_type": "stream",
     "text": [
      "\n",
      "\n",
      "<em class=\"no_down\">\n",
      "<span class=\"blind\">63,100</span>\n",
      "<span class=\"no6\">6</span><span class=\"no3\">3</span><span class=\"shim\">,</span><span class=\"no1\">1</span><span class=\"no0\">0</span><span class=\"no0\">0</span>\n",
      "</em>\n",
      "\n",
      "\n"
     ]
    }
   ],
   "source": [
    "t= list(soup.find(\"p\",class_='no_today').children)\n",
    "print(t[0])\n",
    "print(t[1])\n",
    "print(t[2])"
   ]
  },
  {
   "cell_type": "code",
   "execution_count": 21,
   "metadata": {},
   "outputs": [
    {
     "ename": "IndexError",
     "evalue": "list index out of range",
     "output_type": "error",
     "traceback": [
      "\u001b[1;31m---------------------------------------------------------------------------\u001b[0m",
      "\u001b[1;31mIndexError\u001b[0m                                Traceback (most recent call last)",
      "\u001b[1;32m<ipython-input-21-98ff4fa56003>\u001b[0m in \u001b[0;36m<module>\u001b[1;34m\u001b[0m\n\u001b[1;32m----> 1\u001b[1;33m \u001b[0mprint\u001b[0m\u001b[1;33m(\u001b[0m\u001b[0mt\u001b[0m\u001b[1;33m[\u001b[0m\u001b[1;36m3\u001b[0m\u001b[1;33m]\u001b[0m\u001b[1;33m)\u001b[0m\u001b[1;33m\u001b[0m\u001b[1;33m\u001b[0m\u001b[0m\n\u001b[0m",
      "\u001b[1;31mIndexError\u001b[0m: list index out of range"
     ]
    }
   ],
   "source": [
    "print(t[3])"
   ]
  },
  {
   "cell_type": "code",
   "execution_count": 22,
   "metadata": {},
   "outputs": [
    {
     "name": "stdout",
     "output_type": "stream",
     "text": [
      "<em class=\"no_down\">\n",
      " <span class=\"blind\">\n",
      "  63,100\n",
      " </span>\n",
      " <span class=\"no6\">\n",
      "  6\n",
      " </span>\n",
      " <span class=\"no3\">\n",
      "  3\n",
      " </span>\n",
      " <span class=\"shim\">\n",
      "  ,\n",
      " </span>\n",
      " <span class=\"no1\">\n",
      "  1\n",
      " </span>\n",
      " <span class=\"no0\">\n",
      "  0\n",
      " </span>\n",
      " <span class=\"no0\">\n",
      "  0\n",
      " </span>\n",
      "</em>\n",
      "\n"
     ]
    }
   ],
   "source": [
    "print(t[1].prettify())"
   ]
  },
  {
   "cell_type": "code",
   "execution_count": 23,
   "metadata": {},
   "outputs": [],
   "source": [
    "my_stock_code = ['005930','035720', '000100', '035420']\n",
    "my_stock = ['삼성전자', '카카오', '유한양행', 'NAVER']\n",
    "base_url= \"https://finance.naver.com/item/main.nhn?code=\""
   ]
  },
  {
   "cell_type": "code",
   "execution_count": 28,
   "metadata": {},
   "outputs": [
    {
     "name": "stdout",
     "output_type": "stream",
     "text": [
      "삼성전자 80,900\n",
      "카카오 143,000\n",
      "유한양행 63,200\n",
      "NAVER 387,500\n"
     ]
    }
   ],
   "source": [
    "cnt = 0\n",
    "\n",
    "for code in my_stock_code:\n",
    "\n",
    "    all_url = base_url + code\n",
    "    page = urlopen(all_url)\n",
    "    soup = BeautifulSoup(page,'lxml')\n",
    "    \n",
    "    ##현재가\n",
    "    price = soup.find(\"p\",class_=\"no_today\").find(\"span\", class_=\"blind\").text\n",
    "    \n",
    "    print(my_stock[cnt], price)\n",
    "    cnt+=1"
   ]
  },
  {
   "cell_type": "code",
   "execution_count": 29,
   "metadata": {},
   "outputs": [
    {
     "name": "stdout",
     "output_type": "stream",
     "text": [
      "삼성전자 80,900\n",
      "카카오 143,500\n",
      "유한양행 63,100\n",
      "NAVER 388,500\n"
     ]
    }
   ],
   "source": [
    "for idx, code in enumerate(my_stock_code):\n",
    "\n",
    "    all_url = base_url + code\n",
    "    page = urlopen(all_url)\n",
    "    soup = BeautifulSoup(page,'lxml')\n",
    "    \n",
    "    ##현재가\n",
    "    price = soup.find(\"p\",class_=\"no_today\").find(\"span\", class_=\"blind\").text\n",
    "    \n",
    "    print(my_stock[idx], price)"
   ]
  },
  {
   "cell_type": "code",
   "execution_count": null,
   "metadata": {},
   "outputs": [],
   "source": [
    "* "
   ]
  },
  {
   "cell_type": "code",
   "execution_count": 31,
   "metadata": {},
   "outputs": [
    {
     "data": {
      "text/plain": [
       "<title>NAVER : 네이버 금융</title>"
      ]
     },
     "execution_count": 31,
     "metadata": {},
     "output_type": "execute_result"
    }
   ],
   "source": [
    "chk_url = 'https://finance.naver.com/item/main.nhn?code=035420'\n",
    "page = urlopen(chk_url)\n",
    "soup = BeautifulSoup(page, 'lxml')\n",
    "soup.title"
   ]
  },
  {
   "cell_type": "code",
   "execution_count": 32,
   "metadata": {},
   "outputs": [
    {
     "name": "stdout",
     "output_type": "stream",
     "text": [
      "오늘의 시세: 388,500\n"
     ]
    }
   ],
   "source": [
    "price = soup.find(\"p\",class_='no_today').find('span', class_='blind').text\n",
    "print(\"오늘의 시세:\",price)"
   ]
  },
  {
   "cell_type": "code",
   "execution_count": 38,
   "metadata": {},
   "outputs": [
    {
     "ename": "IndexError",
     "evalue": "list index out of range",
     "output_type": "error",
     "traceback": [
      "\u001b[1;31m---------------------------------------------------------------------------\u001b[0m",
      "\u001b[1;31mIndexError\u001b[0m                                Traceback (most recent call last)",
      "\u001b[1;32m<ipython-input-38-a95f5b4cca30>\u001b[0m in \u001b[0;36m<module>\u001b[1;34m\u001b[0m\n\u001b[0;32m      1\u001b[0m \u001b[0mtoday\u001b[0m\u001b[1;33m=\u001b[0m\u001b[0msoup\u001b[0m\u001b[1;33m.\u001b[0m\u001b[0mfind\u001b[0m\u001b[1;33m(\u001b[0m\u001b[1;34m\"p\"\u001b[0m\u001b[1;33m,\u001b[0m\u001b[0mclass_\u001b[0m\u001b[1;33m=\u001b[0m\u001b[1;34m'no_today'\u001b[0m\u001b[1;33m)\u001b[0m\u001b[1;33m\u001b[0m\u001b[1;33m\u001b[0m\u001b[0m\n\u001b[1;32m----> 2\u001b[1;33m \u001b[0mtoday\u001b[0m\u001b[1;33m.\u001b[0m\u001b[0mfind_all\u001b[0m\u001b[1;33m(\u001b[0m\u001b[1;34m'span'\u001b[0m\u001b[1;33m,\u001b[0m \u001b[0mclass_\u001b[0m\u001b[1;33m=\u001b[0m\u001b[1;34m'blind'\u001b[0m\u001b[1;33m)\u001b[0m\u001b[1;33m[\u001b[0m\u001b[1;36m1\u001b[0m\u001b[1;33m]\u001b[0m\u001b[1;33m\u001b[0m\u001b[1;33m\u001b[0m\u001b[0m\n\u001b[0m",
      "\u001b[1;31mIndexError\u001b[0m: list index out of range"
     ]
    }
   ],
   "source": [
    "today=soup.find(\"p\",class_='no_today')\n",
    "today.find_all('span', class_='blind')[1]"
   ]
  },
  {
   "cell_type": "code",
   "execution_count": 60,
   "metadata": {},
   "outputs": [
    {
     "name": "stdout",
     "output_type": "stream",
     "text": [
      "거래량 192,025\n"
     ]
    }
   ],
   "source": [
    "a= soup.find(\"span\",class_='sptxt sp_txt9')\n",
    "trade =a.find_next(\"span\", class_=\"blind\").text\n",
    "print(a.text, trade)"
   ]
  },
  {
   "cell_type": "code",
   "execution_count": 86,
   "metadata": {},
   "outputs": [
    {
     "data": {
      "text/plain": [
       "'192,025'"
      ]
     },
     "execution_count": 86,
     "metadata": {},
     "output_type": "execute_result"
    }
   ],
   "source": [
    "soup.find(\"table\", class_=\"no_info\").find_all(\"span\",class_='blind')[3].text"
   ]
  },
  {
   "cell_type": "code",
   "execution_count": 97,
   "metadata": {},
   "outputs": [
    {
     "name": "stdout",
     "output_type": "stream",
     "text": [
      "전일: 391,000\n",
      "고가: 389,500\n",
      "상한가: 508,000\n",
      "거래량: 192,025\n",
      "시가: 389,500\n",
      "저가: 385,000\n",
      "하한가: 74,315\n"
     ]
    },
    {
     "ename": "IndexError",
     "evalue": "list index out of range",
     "output_type": "error",
     "traceback": [
      "\u001b[1;31m---------------------------------------------------------------------------\u001b[0m",
      "\u001b[1;31mIndexError\u001b[0m                                Traceback (most recent call last)",
      "\u001b[1;32m<ipython-input-97-6a804f097c45>\u001b[0m in \u001b[0;36m<module>\u001b[1;34m\u001b[0m\n\u001b[0;32m      7\u001b[0m \u001b[0mprint\u001b[0m\u001b[1;33m(\u001b[0m\u001b[1;34m\"저가:\"\u001b[0m\u001b[1;33m,\u001b[0m \u001b[0mA\u001b[0m\u001b[1;33m[\u001b[0m\u001b[1;36m5\u001b[0m\u001b[1;33m]\u001b[0m\u001b[1;33m.\u001b[0m\u001b[0mtext\u001b[0m\u001b[1;33m)\u001b[0m\u001b[1;33m\u001b[0m\u001b[1;33m\u001b[0m\u001b[0m\n\u001b[0;32m      8\u001b[0m \u001b[0mprint\u001b[0m\u001b[1;33m(\u001b[0m\u001b[1;34m\"하한가:\"\u001b[0m\u001b[1;33m,\u001b[0m \u001b[0mA\u001b[0m\u001b[1;33m[\u001b[0m\u001b[1;36m6\u001b[0m\u001b[1;33m]\u001b[0m\u001b[1;33m.\u001b[0m\u001b[0mtext\u001b[0m\u001b[1;33m)\u001b[0m\u001b[1;33m\u001b[0m\u001b[1;33m\u001b[0m\u001b[0m\n\u001b[1;32m----> 9\u001b[1;33m \u001b[0mprint\u001b[0m\u001b[1;33m(\u001b[0m\u001b[1;34m\"거래대금:\"\u001b[0m\u001b[1;33m,\u001b[0m \u001b[0mA\u001b[0m\u001b[1;33m[\u001b[0m\u001b[1;36m7\u001b[0m\u001b[1;33m]\u001b[0m\u001b[1;33m.\u001b[0m\u001b[0mtext\u001b[0m\u001b[1;33m)\u001b[0m\u001b[1;33m\u001b[0m\u001b[1;33m\u001b[0m\u001b[0m\n\u001b[0m",
      "\u001b[1;31mIndexError\u001b[0m: list index out of range"
     ]
    }
   ],
   "source": [
    "A= soup.find(\"table\", class_=\"no_info\").find_all(\"span\",class_='blind')\n",
    "print(\"전일:\", A[0].text)\n",
    "print(\"고가:\", A[1].text)\n",
    "print(\"상한가:\", A[2].text)\n",
    "print(\"거래량:\", A[3].text)\n",
    "print(\"시가:\", A[4].text)\n",
    "print(\"저가:\", A[5].text)\n",
    "print(\"하한가:\", A[6].text)\n",
    "print(\"거래대금:\", A[7].text)"
   ]
  },
  {
   "cell_type": "code",
   "execution_count": 61,
   "metadata": {},
   "outputs": [
    {
     "name": "stdout",
     "output_type": "stream",
     "text": [
      "시가 389,500\n"
     ]
    }
   ],
   "source": [
    "b= soup.find(\"span\",class_='sptxt sp_txt3')\n",
    "trade =b.find_next(\"span\", class_=\"blind\").text\n",
    "print(b.text, trade)"
   ]
  },
  {
   "cell_type": "code",
   "execution_count": 77,
   "metadata": {},
   "outputs": [
    {
     "name": "stdout",
     "output_type": "stream",
     "text": [
      "저가 385,000\n",
      "(하한가 74,315\n"
     ]
    }
   ],
   "source": [
    "c= soup.find(\"span\",class_='sptxt sp_txt5')\n",
    "trade =c.find_next(\"span\", class_=\"blind\").text\n",
    "print(c.text, trade)\n",
    "c1= soup.find(\"span\",class_='sptxt sp_txt7')\n",
    "trade =c1.find_next(\"span\", class_=\"blind\").text\n",
    "print(c.text, trade, c1.text, trade)"
   ]
  },
  {
   "cell_type": "code",
   "execution_count": 76,
   "metadata": {},
   "outputs": [
    {
     "name": "stdout",
     "output_type": "stream",
     "text": [
      "고가 389,500 (상한가 508,000 )\n"
     ]
    }
   ],
   "source": [
    "e= soup.find(\"span\",class_='sptxt sp_txt4')\n",
    "trade =e.find_next(\"span\", class_=\"blind\").text\n",
    "\n",
    "e1= soup.find(\"span\",class_='sptxt sp_txt6')\n",
    "trade1 =e1.find_next(\"span\", class_=\"blind\").text\n",
    "\n",
    "print(e.text,trade, e1.text,trade1, \")\")"
   ]
  },
  {
   "cell_type": "code",
   "execution_count": 63,
   "metadata": {},
   "outputs": [
    {
     "name": "stdout",
     "output_type": "stream",
     "text": [
      "전일 391,000\n"
     ]
    }
   ],
   "source": [
    "d= soup.find(\"span\",class_='sptxt sp_txt2')\n",
    "trade =d.find_next(\"span\", class_=\"blind\").text\n",
    "print(d.text, trade)"
   ]
  },
  {
   "cell_type": "code",
   "execution_count": 66,
   "metadata": {},
   "outputs": [
    {
     "name": "stdout",
     "output_type": "stream",
     "text": [
      "거래대금 74,315 백만\n"
     ]
    }
   ],
   "source": [
    "f= soup.find(\"span\",class_='sptxt sp_txt10')\n",
    "trade =f.find_next(\"span\", class_=\"blind\").text\n",
    "print(f.text, trade,\"백만\")"
   ]
  },
  {
   "cell_type": "code",
   "execution_count": 109,
   "metadata": {},
   "outputs": [
    {
     "name": "stdout",
     "output_type": "stream",
     "text": [
      "오늘의 시세: 388,500\n",
      "포인트: 2,500 하락\n",
      "퍼센트: 0.64\n"
     ]
    }
   ],
   "source": [
    "v=soup.find(\"div\",class_='today').find_all('span', class_='blind')\n",
    "t = soup.find(\"div\",class_='today').find('span', class_='ico down').text\n",
    "print(\"오늘의 시세:\",v[0].text)\n",
    "print(\"포인트:\",v[1].text, t)\n",
    "print(\"퍼센트:\",v[2].text)"
   ]
  }
 ],
 "metadata": {
  "kernelspec": {
   "display_name": "Python 3",
   "language": "python",
   "name": "python3"
  },
  "language_info": {
   "codemirror_mode": {
    "name": "ipython",
    "version": 3
   },
   "file_extension": ".py",
   "mimetype": "text/x-python",
   "name": "python",
   "nbconvert_exporter": "python",
   "pygments_lexer": "ipython3",
   "version": "3.8.5"
  }
 },
 "nbformat": 4,
 "nbformat_minor": 4
}
